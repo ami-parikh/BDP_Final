{
 "cells": [
  {
   "cell_type": "markdown",
   "metadata": {},
   "source": [
    "# Model Troll Tweets"
   ]
  },
  {
   "cell_type": "code",
   "execution_count": 1,
   "metadata": {},
   "outputs": [],
   "source": [
    "import findspark\n",
    "findspark.init()"
   ]
  },
  {
   "cell_type": "code",
   "execution_count": 2,
   "metadata": {},
   "outputs": [],
   "source": [
    "from pyspark.sql import SparkSession\n",
    "from pyspark.sql import functions as F\n",
    "from pyspark.sql import HiveContext\n",
    "from pyspark.ml.feature import HashingTF, IDF, Tokenizer\n",
    "from pyspark.ml.feature import StopWordsRemover\n",
    "\n",
    "import matplotlib.pyplot as plt\n",
    "%matplotlib inline"
   ]
  },
  {
   "cell_type": "code",
   "execution_count": 3,
   "metadata": {},
   "outputs": [
    {
     "data": {
      "text/plain": [
       "[('spark.driver.port', '50044'),\n",
       " ('spark.driver.memory', '4g'),\n",
       " ('spark.executor.id', 'driver'),\n",
       " ('spark.app.id', 'local-1552353528363'),\n",
       " ('spark.executor.cores', '4'),\n",
       " ('spark.cores.max', '4'),\n",
       " ('spark.app.name', 'Spark Updated Conf'),\n",
       " ('spark.rdd.compress', 'True'),\n",
       " ('spark.serializer.objectStreamReset', '100'),\n",
       " ('spark.master', 'local[*]'),\n",
       " ('spark.executor.memory', '8g'),\n",
       " ('spark.submit.deployMode', 'client'),\n",
       " ('spark.driver.host', '10.150.190.82'),\n",
       " ('spark.ui.showConsoleProgress', 'true')]"
      ]
     },
     "execution_count": 3,
     "metadata": {},
     "output_type": "execute_result"
    }
   ],
   "source": [
    "spark = SparkSession.builder.appName('rus_trolls').getOrCreate()\n",
    "\n",
    "# Change configuration settings on Spark \n",
    "conf = spark.sparkContext._conf.setAll([('spark.executor.memory', '8g'), ('spark.app.name', 'Spark Updated Conf'), ('spark.executor.cores', '4'), ('spark.cores.max', '4'), ('spark.driver.memory','4g')])\n",
    "\n",
    "# Print spark configuration settings\n",
    "spark.sparkContext.getConf().getAll()"
   ]
  },
  {
   "cell_type": "code",
   "execution_count": 4,
   "metadata": {},
   "outputs": [],
   "source": [
    "sc = spark.sparkContext\n",
    "# hc = HiveContext(sc)"
   ]
  },
  {
   "cell_type": "markdown",
   "metadata": {},
   "source": [
    "# Read data"
   ]
  },
  {
   "cell_type": "code",
   "execution_count": 5,
   "metadata": {},
   "outputs": [],
   "source": [
    "# hive_context = HiveContext(sc)\n",
    "# df = hive_context.table(\"tywang.trolls_non_trolls\")\n",
    "# df.show(10)"
   ]
  },
  {
   "cell_type": "code",
   "execution_count": 6,
   "metadata": {},
   "outputs": [],
   "source": [
    "df = spark.read.csv('data/trolls_non_trolls.csv', inferSchema=True, header=False)"
   ]
  },
  {
   "cell_type": "code",
   "execution_count": 7,
   "metadata": {},
   "outputs": [
    {
     "name": "stdout",
     "output_type": "stream",
     "text": [
      "+-----+--------------------+\n",
      "|  _c0|                 _c1|\n",
      "+-----+--------------------+\n",
      "|troll|RT @RappersIQ: #P...|\n",
      "|troll|RT @BlackNewsOutl...|\n",
      "|troll|RT @Herobright2: ...|\n",
      "|troll|Mexico City metro...|\n",
      "|troll|And will replace ...|\n",
      "|troll|#morningjoe  If y...|\n",
      "|troll| Have a nice Tuesday|\n",
      "|troll|RT @2a43e23eca444...|\n",
      "|troll|I've noticed that...|\n",
      "|troll|https://t.co/zXPH...|\n",
      "|troll|*= Lunch breaks a...|\n",
      "|troll|Judge Mike Erwin ...|\n",
      "|troll|RT @UraniumTesfai...|\n",
      "|troll|RT @CarlaChamorro...|\n",
      "|troll|You wanna count m...|\n",
      "|troll|#local Free sprin...|\n",
      "|troll|FORECAST | Cooler...|\n",
      "|troll|Comment here on h...|\n",
      "|troll|3 arrested in con...|\n",
      "|troll|Horror director W...|\n",
      "+-----+--------------------+\n",
      "only showing top 20 rows\n",
      "\n"
     ]
    }
   ],
   "source": [
    "df.show()"
   ]
  },
  {
   "cell_type": "code",
   "execution_count": 8,
   "metadata": {},
   "outputs": [],
   "source": [
    "oldColumns = df.schema.names\n",
    "newColumns = [\"class\", \"tweet_text\"]\n",
    "\n",
    "for i in range(0, len(oldColumns)):\n",
    "    df = df.withColumnRenamed(oldColumns[i], newColumns[i])"
   ]
  },
  {
   "cell_type": "code",
   "execution_count": 9,
   "metadata": {},
   "outputs": [
    {
     "name": "stdout",
     "output_type": "stream",
     "text": [
      "+--------+-------+\n",
      "|   class|  count|\n",
      "+--------+-------+\n",
      "|   troll|1358472|\n",
      "|innocent|1600000|\n",
      "+--------+-------+\n",
      "\n"
     ]
    }
   ],
   "source": [
    "df.groupBy(\"class\").count().show()"
   ]
  },
  {
   "cell_type": "code",
   "execution_count": 10,
   "metadata": {},
   "outputs": [
    {
     "name": "stdout",
     "output_type": "stream",
     "text": [
      "+--------+-------+\n",
      "|   class|  count|\n",
      "+--------+-------+\n",
      "|   troll|1358460|\n",
      "|innocent|1599960|\n",
      "+--------+-------+\n",
      "\n"
     ]
    }
   ],
   "source": [
    "df.dropna().groupBy(\"class\").count().show()"
   ]
  },
  {
   "cell_type": "code",
   "execution_count": 11,
   "metadata": {},
   "outputs": [],
   "source": [
    "is_troll = df.select(\"class\").rdd.flatMap(lambda x: 1 if x =='troll' else 0)"
   ]
  },
  {
   "cell_type": "code",
   "execution_count": 12,
   "metadata": {},
   "outputs": [],
   "source": [
    "from pyspark.sql.types import IntegerType\n",
    "from pyspark.sql.functions import udf\n",
    "\n",
    "def modify_values(r):\n",
    "    if r == \"troll\":\n",
    "        return 1\n",
    "    else:\n",
    "        return 0\n",
    "ol_val = udf(modify_values, IntegerType())\n",
    "df = df.withColumn(\"class\", ol_val(df[\"class\"]))"
   ]
  },
  {
   "cell_type": "code",
   "execution_count": 13,
   "metadata": {},
   "outputs": [
    {
     "name": "stdout",
     "output_type": "stream",
     "text": [
      "+-----+-------+\n",
      "|class|  count|\n",
      "+-----+-------+\n",
      "|    1|1358460|\n",
      "|    0|1599960|\n",
      "+-----+-------+\n",
      "\n"
     ]
    }
   ],
   "source": [
    "df.dropna().groupBy(\"class\").count().show()"
   ]
  },
  {
   "cell_type": "code",
   "execution_count": 14,
   "metadata": {},
   "outputs": [],
   "source": [
    "df = df.dropna()"
   ]
  },
  {
   "cell_type": "markdown",
   "metadata": {},
   "source": [
    "# Transform data"
   ]
  },
  {
   "cell_type": "code",
   "execution_count": 15,
   "metadata": {},
   "outputs": [
    {
     "name": "stdout",
     "output_type": "stream",
     "text": [
      "+-----+--------------------+\n",
      "|class|               words|\n",
      "+-----+--------------------+\n",
      "|    1|[rt, @rappersiq:,...|\n",
      "|    1|[rt, @blacknewsou...|\n",
      "|    1|[rt, @herobright2...|\n",
      "|    1|[mexico, city, me...|\n",
      "|    1|[and, will, repla...|\n",
      "+-----+--------------------+\n",
      "only showing top 5 rows\n",
      "\n"
     ]
    }
   ],
   "source": [
    "tokenizer = Tokenizer(inputCol=\"tweet_text\", outputCol=\"words\")\n",
    "df_words = tokenizer.transform(df)\n",
    "df_words = df_words.drop(\"tweet_text\")\n",
    "df_words.show(5)"
   ]
  },
  {
   "cell_type": "code",
   "execution_count": 16,
   "metadata": {},
   "outputs": [
    {
     "name": "stdout",
     "output_type": "stream",
     "text": [
      "+-----+--------------------+\n",
      "|class|    filtered_content|\n",
      "+-----+--------------------+\n",
      "|    1|[rt, @rappersiq:,...|\n",
      "|    1|[rt, @blacknewsou...|\n",
      "|    1|[rt, @herobright2...|\n",
      "|    1|[mexico, city, me...|\n",
      "|    1|[replace, \"magist...|\n",
      "+-----+--------------------+\n",
      "only showing top 5 rows\n",
      "\n"
     ]
    }
   ],
   "source": [
    "# Remove stop words\n",
    "remover = StopWordsRemover(inputCol=\"words\", outputCol=\"filtered_content\")\n",
    "df_words_removed_sw = remover.transform(df_words)\n",
    "\n",
    "# Drop the redundant source column\n",
    "df_words_removed_sw = df_words_removed_sw.drop(\"words\")\n",
    "df_words_removed_sw.show(5)"
   ]
  },
  {
   "cell_type": "code",
   "execution_count": 17,
   "metadata": {},
   "outputs": [
    {
     "name": "stdout",
     "output_type": "stream",
     "text": [
      "+-----+--------------------+\n",
      "|class|            features|\n",
      "+-----+--------------------+\n",
      "|    1|(20,[0,1,5,6,7,8,...|\n",
      "|    1|(20,[2,6,8,11,13]...|\n",
      "|    1|(20,[2,4,5,7,9,13...|\n",
      "|    1|(20,[5,6,7,11,14,...|\n",
      "|    1|(20,[7,13,19],[1....|\n",
      "|    1|(20,[8,9,12,19],[...|\n",
      "|    1|(20,[1,10],[1.424...|\n",
      "|    1|(20,[0,4,7,10,11,...|\n",
      "|    1|(20,[1,4,6,13,14,...|\n",
      "|    1|(20,[3,9],[1.4278...|\n",
      "+-----+--------------------+\n",
      "only showing top 10 rows\n",
      "\n"
     ]
    }
   ],
   "source": [
    "hashingTF = HashingTF(inputCol=\"filtered_content\", outputCol=\"rawFeatures\", numFeatures=20)\n",
    "featurizedData = hashingTF.transform(df_words_removed_sw)\n",
    "\n",
    "idf = IDF(inputCol=\"rawFeatures\", outputCol=\"features\")\n",
    "idfModel = idf.fit(featurizedData)\n",
    "nlpdf = idfModel.transform(featurizedData)\n",
    "nlpdf.select(\"class\", \"features\").show(10)"
   ]
  },
  {
   "cell_type": "code",
   "execution_count": 18,
   "metadata": {},
   "outputs": [],
   "source": [
    "# # Learn a mapping from words to Vectors\n",
    "# from pyspark.ml.feature import Word2Vec\n",
    "# word2Vec = Word2Vec(vectorSize=5, minCount=0, inputCol=\"filtered_content\", outputCol=\"wordVectors\")\n",
    "# w2VM = word2Vec.fit(df_words_removed_sw)\n",
    "# nlpdf = w2VM.transform(df_words_removed_sw)"
   ]
  },
  {
   "cell_type": "code",
   "execution_count": 19,
   "metadata": {},
   "outputs": [
    {
     "name": "stdout",
     "output_type": "stream",
     "text": [
      "+-----+----------------+-----------+----------+\n",
      "|class|filtered_content|rawFeatures|  features|\n",
      "+-----+----------------+-----------+----------+\n",
      "|    1|              []| (20,[],[])|(20,[],[])|\n",
      "+-----+----------------+-----------+----------+\n",
      "only showing top 1 row\n",
      "\n"
     ]
    }
   ],
   "source": [
    "# Split data into train and test\n",
    "splits = nlpdf.randomSplit([0.8, 0.2])\n",
    "train_df = splits[0]\n",
    "test_df = splits[1]\n",
    "\n",
    "train_df.show(1)"
   ]
  },
  {
   "cell_type": "code",
   "execution_count": 20,
   "metadata": {},
   "outputs": [],
   "source": [
    "# Set parameters for Logistic Regression\n",
    "from pyspark.ml.classification import LogisticRegression\n",
    "\n",
    "lgr = LogisticRegression(maxIter=10, featuresCol=\"features\", labelCol=\"class\")\n",
    "\n",
    "# Fit the model to the data.\n",
    "lgrm = lgr.fit(train_df)\n",
    "\n",
    "# Given a dataset, predict each point's label, and show the results.\n",
    "predictions = lgrm.transform(test_df)"
   ]
  },
  {
   "cell_type": "code",
   "execution_count": 21,
   "metadata": {},
   "outputs": [
    {
     "name": "stdout",
     "output_type": "stream",
     "text": [
      "0.6798981344949337\n",
      "0.6762354161673665\n"
     ]
    }
   ],
   "source": [
    "# print evaluation metrics\n",
    "from pyspark.ml.evaluation import MulticlassClassificationEvaluator\n",
    "\n",
    "evaluator = MulticlassClassificationEvaluator(labelCol=\"class\", predictionCol=\"prediction\")\n",
    "\n",
    "print(evaluator.evaluate(predictions, {evaluator.metricName: \"accuracy\"}))\n",
    "print(evaluator.evaluate(predictions, {evaluator.metricName: \"f1\"}))"
   ]
  },
  {
   "cell_type": "code",
   "execution_count": 23,
   "metadata": {},
   "outputs": [
    {
     "data": {
      "text/plain": [
       "[Row(TPR=0.0),\n",
       " Row(TPR=0.011301747553526243),\n",
       " Row(TPR=0.023023849842297987),\n",
       " Row(TPR=0.03353455785028565),\n",
       " Row(TPR=0.043870501307514784),\n",
       " Row(TPR=0.0556781462448157),\n",
       " Row(TPR=0.06823451931010314),\n",
       " Row(TPR=0.08113030352923213),\n",
       " Row(TPR=0.09414014461306669),\n",
       " Row(TPR=0.10683632931896095),\n",
       " Row(TPR=0.1191103196627596),\n",
       " Row(TPR=0.13057763363279393),\n",
       " Row(TPR=0.14132657331786821),\n",
       " Row(TPR=0.15154018158956636),\n",
       " Row(TPR=0.1610354155763045),\n",
       " Row(TPR=0.17030345564705654),\n",
       " Row(TPR=0.17843460632445315),\n",
       " Row(TPR=0.1877440379993322),\n",
       " Row(TPR=0.19785370735400032),\n",
       " Row(TPR=0.20894573744661632),\n",
       " Row(TPR=0.2212712373422175),\n",
       " Row(TPR=0.23424428588905027),\n",
       " Row(TPR=0.24778945838626093),\n",
       " Row(TPR=0.261445008494477),\n",
       " Row(TPR=0.2756377296429192),\n",
       " Row(TPR=0.2899537057903175),\n",
       " Row(TPR=0.3040001766041776),\n",
       " Row(TPR=0.3718226194998607),\n",
       " Row(TPR=0.3858396562841193),\n",
       " Row(TPR=0.39981438165082595),\n",
       " Row(TPR=0.4133282804915851),\n",
       " Row(TPR=0.4265174851933034),\n",
       " Row(TPR=0.43969565213392114),\n",
       " Row(TPR=0.45225110538578356),\n",
       " Row(TPR=0.4652958993797698),\n",
       " Row(TPR=0.47692142125891185),\n",
       " Row(TPR=0.48848899489227604),\n",
       " Row(TPR=0.4994798455081371),\n",
       " Row(TPR=0.5105038094072998),\n",
       " Row(TPR=0.5207146582387229),\n",
       " Row(TPR=0.5286048177987577),\n",
       " Row(TPR=0.5384173874171363),\n",
       " Row(TPR=0.5475253799519305),\n",
       " Row(TPR=0.5564135370781391),\n",
       " Row(TPR=0.5646495464859907),\n",
       " Row(TPR=0.572567300448777),\n",
       " Row(TPR=0.580297412472854),\n",
       " Row(TPR=0.5875584196501582),\n",
       " Row(TPR=0.59446529865882),\n",
       " Row(TPR=0.6011137100950443),\n",
       " Row(TPR=0.6074291490714023),\n",
       " Row(TPR=0.6137703428236616),\n",
       " Row(TPR=0.6160376829163973),\n",
       " Row(TPR=0.6222482631623002),\n",
       " Row(TPR=0.6290171701572053),\n",
       " Row(TPR=0.6364796164745943),\n",
       " Row(TPR=0.6445187858094864),\n",
       " Row(TPR=0.6527823896200895),\n",
       " Row(TPR=0.6624615862918366),\n",
       " Row(TPR=0.6745534535774763),\n",
       " Row(TPR=0.683422294621759),\n",
       " Row(TPR=0.7280470429378105),\n",
       " Row(TPR=0.738841973294137),\n",
       " Row(TPR=0.7510331804296816),\n",
       " Row(TPR=0.7623340081697828),\n",
       " Row(TPR=0.7642959702054035),\n",
       " Row(TPR=0.7746613476922342),\n",
       " Row(TPR=0.7857175050612734),\n",
       " Row(TPR=0.7968785211607677),\n",
       " Row(TPR=0.8077654328595988),\n",
       " Row(TPR=0.8179955977729477),\n",
       " Row(TPR=0.8277916107496756),\n",
       " Row(TPR=0.8377053598448091),\n",
       " Row(TPR=0.8470663010714906),\n",
       " Row(TPR=0.8561862511808105),\n",
       " Row(TPR=0.8662388921031258),\n",
       " Row(TPR=0.8742109150579896),\n",
       " Row(TPR=0.8780750512566031),\n",
       " Row(TPR=0.8861988434265994),\n",
       " Row(TPR=0.8941708663814631),\n",
       " Row(TPR=0.9012727458362346),\n",
       " Row(TPR=0.9081961814865472),\n",
       " Row(TPR=0.9148307957213959),\n",
       " Row(TPR=0.9211453148843288),\n",
       " Row(TPR=0.9275564144568915),\n",
       " Row(TPR=0.9333963098925014),\n",
       " Row(TPR=0.939109271075455),\n",
       " Row(TPR=0.9446575856553256),\n",
       " Row(TPR=0.9496696490083951),\n",
       " Row(TPR=0.9546164056082864),\n",
       " Row(TPR=0.9594546242240224),\n",
       " Row(TPR=0.9601086115692293),\n",
       " Row(TPR=0.9645660274269967),\n",
       " Row(TPR=0.9687879710479527),\n",
       " Row(TPR=0.9728599850806262),\n",
       " Row(TPR=0.976932918926725),\n",
       " Row(TPR=0.9806921963948833),\n",
       " Row(TPR=0.9842978650210591),\n",
       " Row(TPR=0.9876947359997498),\n",
       " Row(TPR=0.9908312997791529),\n",
       " Row(TPR=0.9936983582250176),\n",
       " Row(TPR=0.9962232460767658),\n",
       " Row(TPR=0.998317661245593),\n",
       " Row(TPR=0.9997884429122397),\n",
       " Row(TPR=1.0),\n",
       " Row(TPR=1.0)]"
      ]
     },
     "execution_count": 23,
     "metadata": {},
     "output_type": "execute_result"
    }
   ],
   "source": [
    "lgrm.summary.roc.select('FPR').collect()\n",
    "lgrm.summary.roc.select('TPR').collect()"
   ]
  },
  {
   "cell_type": "code",
   "execution_count": 26,
   "metadata": {},
   "outputs": [
    {
     "data": {
      "image/png": "[encoded data removed]",
      "text/plain": [
       "<Figure size 360x360 with 1 Axes>"
      ]
     },
     "metadata": {},
     "output_type": "display_data"
    }
   ],
   "source": [
    "import matplotlib.pyplot as plt\n",
    "plt.figure(figsize=(5,5))\n",
    "plt.plot([0, 1], [0, 1], 'r--')\n",
    "plt.plot(lgrm.summary.roc.select('FPR').collect(),\n",
    "         lgrm.summary.roc.select('TPR').collect())\n",
    "plt.xlabel('FPR')\n",
    "plt.ylabel('TPR')\n",
    "plt.title(\"ROC - Untuned\")\n",
    "plt.savefig('roc_untuned.png')\n",
    "plt.show()\n"
   ]
  },
  {
   "cell_type": "code",
   "execution_count": null,
   "metadata": {},
   "outputs": [],
   "source": []
  }
 ],
 "metadata": {
  "kernelspec": {
   "display_name": "Python 3",
   "language": "python",
   "name": "python3"
  },
  "language_info": {
   "codemirror_mode": {
    "name": "ipython",
    "version": 3
   },
   "file_extension": ".py",
   "mimetype": "text/x-python",
   "name": "python",
   "nbconvert_exporter": "python",
   "pygments_lexer": "ipython3",
   "version": "3.6.8"
  }
 },
 "nbformat": 4,
 "nbformat_minor": 2
}
