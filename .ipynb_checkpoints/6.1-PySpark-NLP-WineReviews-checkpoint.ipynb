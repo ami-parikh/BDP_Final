{
 "cells": [
  {
   "cell_type": "markdown",
   "metadata": {},
   "source": [
    "# Big Data Platforms\n",
    "\n",
    "## PySpark Machine Learning\n",
    "\n",
    "### MLlib applied to Wine reviews data \n",
    "\n",
    "**Dataset:**\n",
    "https://www.kaggle.com/zynicide/wine-reviews\n",
    "\n",
    "\n",
    "Copyright: 2018 [Ashish Pujari](apujari@uchicago.edu)"
   ]
  },
  {
   "cell_type": "code",
   "execution_count": 2,
   "metadata": {},
   "outputs": [],
   "source": [
    "from pyspark.sql import SparkSession\n",
    "from pyspark.sql import functions as F\n",
    "\n",
    "import matplotlib.pyplot as plt\n",
    "%matplotlib inline"
   ]
  },
  {
   "cell_type": "code",
   "execution_count": 3,
   "metadata": {},
   "outputs": [
    {
     "data": {
      "text/plain": [
       "[('spark.driver.port', '49253'),\n",
       " ('spark.executor.id', 'driver'),\n",
       " ('spark.driver.host', 'joshuas-mbp'),\n",
       " ('spark.executor.memory', '5g'),\n",
       " ('spark.executor.cores', '4'),\n",
       " ('spark.cores.max', '4'),\n",
       " ('spark.app.name', 'Spark Updated Conf'),\n",
       " ('spark.rdd.compress', 'True'),\n",
       " ('spark.driver.memory', '8g'),\n",
       " ('spark.serializer.objectStreamReset', '100'),\n",
       " ('spark.master', 'local[*]'),\n",
       " ('spark.submit.deployMode', 'client'),\n",
       " ('spark.app.id', 'local-1552268824410'),\n",
       " ('spark.ui.showConsoleProgress', 'true')]"
      ]
     },
     "execution_count": 3,
     "metadata": {},
     "output_type": "execute_result"
    }
   ],
   "source": [
    "#create Spark session\n",
    "spark = SparkSession.builder.appName('WineReviewsML').getOrCreate()\n",
    "\n",
    "#change configuration settings on Spark \n",
    "conf = spark.sparkContext._conf.setAll([('spark.executor.memory', '5g'), ('spark.app.name', 'Spark Updated Conf'), ('spark.executor.cores', '4'), ('spark.cores.max', '4'), ('spark.driver.memory','8g')])\n",
    "\n",
    "#print spark configuration settings\n",
    "spark.sparkContext.getConf().getAll()"
   ]
  },
  {
   "cell_type": "markdown",
   "metadata": {},
   "source": [
    "## Read Data"
   ]
  },
  {
   "cell_type": "code",
   "execution_count": 3,
   "metadata": {},
   "outputs": [],
   "source": [
    "df = spark.read \\\n",
    "    .option(\"quote\", \"\\\"\")  \\\n",
    "    .option(\"escape\", \"\\\"\") \\\n",
    "    .option(\"ignoreLeadingWhiteSpace\",True) \\\n",
    "    .csv(\"T:\\\\courses\\\\BigData\\\\data\\\\wine-reviews\\\\winemag-data_first150k.csv\",inferSchema=True, header=True )"
   ]
  },
  {
   "cell_type": "code",
   "execution_count": 4,
   "metadata": {},
   "outputs": [
    {
     "name": "stdout",
     "output_type": "stream",
     "text": [
      "root\n",
      " |-- _c0: integer (nullable = true)\n",
      " |-- country: string (nullable = true)\n",
      " |-- description: string (nullable = true)\n",
      " |-- designation: string (nullable = true)\n",
      " |-- points: integer (nullable = true)\n",
      " |-- price: double (nullable = true)\n",
      " |-- province: string (nullable = true)\n",
      " |-- region_1: string (nullable = true)\n",
      " |-- region_2: string (nullable = true)\n",
      " |-- variety: string (nullable = true)\n",
      " |-- winery: string (nullable = true)\n",
      "\n"
     ]
    }
   ],
   "source": [
    "df.printSchema()"
   ]
  },
  {
   "cell_type": "code",
   "execution_count": 4,
   "metadata": {},
   "outputs": [],
   "source": [
    "df = spark.read.csv(\"\")\n",
    "df2 = spark.read.csv(\"winemag-data-130k-v2.csv\")"
   ]
  },
  {
   "cell_type": "code",
   "execution_count": 5,
   "metadata": {},
   "outputs": [],
   "source": [
    "df2 = spark.read \\\n",
    "    .option(\"quote\", \"\\\"\")  \\\n",
    "    .option(\"escape\", \"\\\"\") \\\n",
    "    .option(\"ignoreLeadingWhiteSpace\",True) \\\n",
    "    .csv(\"T:\\\\courses\\\\BigData\\\\data\\\\wine-reviews\\\\winemag-data-130k-v2.csv\",inferSchema=True, header=True )"
   ]
  },
  {
   "cell_type": "code",
   "execution_count": 6,
   "metadata": {},
   "outputs": [
    {
     "name": "stdout",
     "output_type": "stream",
     "text": [
      "root\n",
      " |-- _c0: integer (nullable = true)\n",
      " |-- country: string (nullable = true)\n",
      " |-- description: string (nullable = true)\n",
      " |-- designation: string (nullable = true)\n",
      " |-- points: integer (nullable = true)\n",
      " |-- price: double (nullable = true)\n",
      " |-- province: string (nullable = true)\n",
      " |-- region_1: string (nullable = true)\n",
      " |-- region_2: string (nullable = true)\n",
      " |-- taster_name: string (nullable = true)\n",
      " |-- taster_twitter_handle: string (nullable = true)\n",
      " |-- title: string (nullable = true)\n",
      " |-- variety: string (nullable = true)\n",
      " |-- winery: string (nullable = true)\n",
      "\n"
     ]
    }
   ],
   "source": [
    "df2.printSchema()"
   ]
  },
  {
   "cell_type": "code",
   "execution_count": 5,
   "metadata": {},
   "outputs": [
    {
     "ename": "NameError",
     "evalue": "name 'df' is not defined",
     "output_type": "error",
     "traceback": [
      "\u001b[0;31m---------------------------------------------------------------------------\u001b[0m",
      "\u001b[0;31mNameError\u001b[0m                                 Traceback (most recent call last)",
      "\u001b[0;32m<ipython-input-5-44e0b029a572>\u001b[0m in \u001b[0;36m<module>\u001b[0;34m\u001b[0m\n\u001b[1;32m      1\u001b[0m \u001b[0;31m#combine the two datasets\u001b[0m\u001b[0;34m\u001b[0m\u001b[0;34m\u001b[0m\u001b[0;34m\u001b[0m\u001b[0m\n\u001b[0;32m----> 2\u001b[0;31m \u001b[0mdf\u001b[0m \u001b[0;34m=\u001b[0m \u001b[0mdf\u001b[0m\u001b[0;34m.\u001b[0m\u001b[0munion\u001b[0m\u001b[0;34m(\u001b[0m\u001b[0mdf2\u001b[0m\u001b[0;34m.\u001b[0m\u001b[0mdrop\u001b[0m\u001b[0;34m(\u001b[0m\u001b[0;34m\"taster_name\"\u001b[0m\u001b[0;34m,\u001b[0m \u001b[0;34m\"taster_twitter_handle\"\u001b[0m\u001b[0;34m,\u001b[0m \u001b[0;34m\"title\"\u001b[0m\u001b[0;34m)\u001b[0m\u001b[0;34m)\u001b[0m\u001b[0;34m\u001b[0m\u001b[0;34m\u001b[0m\u001b[0m\n\u001b[0m",
      "\u001b[0;31mNameError\u001b[0m: name 'df' is not defined"
     ]
    }
   ],
   "source": [
    "#combine the two datasets\n",
    "df = df.union(df2.drop(\"taster_name\", \"taster_twitter_handle\", \"title\"))"
   ]
  },
  {
   "cell_type": "markdown",
   "metadata": {},
   "source": [
    "## Data Exploration"
   ]
  },
  {
   "cell_type": "code",
   "execution_count": 8,
   "metadata": {},
   "outputs": [
    {
     "data": {
      "text/plain": [
       "280901"
      ]
     },
     "execution_count": 8,
     "metadata": {},
     "output_type": "execute_result"
    }
   ],
   "source": [
    "df.count()"
   ]
  },
  {
   "cell_type": "code",
   "execution_count": 9,
   "metadata": {},
   "outputs": [
    {
     "name": "stdout",
     "output_type": "stream",
     "text": [
      "+---+-------+--------------------+--------------------+------+-----+--------------+-----------------+-----------------+------------------+--------------------+\n",
      "|_c0|country|         description|         designation|points|price|      province|         region_1|         region_2|           variety|              winery|\n",
      "+---+-------+--------------------+--------------------+------+-----+--------------+-----------------+-----------------+------------------+--------------------+\n",
      "|  0|     US|This tremendous 1...|   Martha's Vineyard|    96|235.0|    California|      Napa Valley|             Napa|Cabernet Sauvignon|               Heitz|\n",
      "|  1|  Spain|Ripe aromas of fi...|Carodorum Selecci...|    96|110.0|Northern Spain|             Toro|             null|     Tinta de Toro|Bodega Carmen Rod...|\n",
      "|  2|     US|Mac Watson honors...|Special Selected ...|    96| 90.0|    California|   Knights Valley|           Sonoma|   Sauvignon Blanc|            Macauley|\n",
      "|  3|     US|This spent 20 mon...|             Reserve|    96| 65.0|        Oregon|Willamette Valley|Willamette Valley|        Pinot Noir|               Ponzi|\n",
      "|  4| France|This is the top w...|          La Brûlade|    95| 66.0|      Provence|           Bandol|             null|Provence red blend|Domaine de la Bégude|\n",
      "+---+-------+--------------------+--------------------+------+-----+--------------+-----------------+-----------------+------------------+--------------------+\n",
      "only showing top 5 rows\n",
      "\n"
     ]
    }
   ],
   "source": [
    "df.show(5)"
   ]
  },
  {
   "cell_type": "code",
   "execution_count": 10,
   "metadata": {},
   "outputs": [
    {
     "data": {
      "text/plain": [
       "73325"
      ]
     },
     "execution_count": 10,
     "metadata": {},
     "output_type": "execute_result"
    }
   ],
   "source": [
    "#Count rows with missing values\n",
    "df.dropna().count()"
   ]
  },
  {
   "cell_type": "markdown",
   "metadata": {},
   "source": [
    "##  Feature Engineering"
   ]
  },
  {
   "cell_type": "code",
   "execution_count": 11,
   "metadata": {},
   "outputs": [
    {
     "name": "stdout",
     "output_type": "stream",
     "text": [
      "+---+-------+--------------------+--------------------+------+-----+--------------+--------------+--------+------------------+--------------------+---------------+\n",
      "|_c0|country|         description|         designation|points|price|      province|      region_1|region_2|           variety|              winery|points_category|\n",
      "+---+-------+--------------------+--------------------+------+-----+--------------+--------------+--------+------------------+--------------------+---------------+\n",
      "|  0|     US|This tremendous 1...|   Martha's Vineyard|    96|235.0|    California|   Napa Valley|    Napa|Cabernet Sauvignon|               Heitz|            2.0|\n",
      "|  1|  Spain|Ripe aromas of fi...|Carodorum Selecci...|    96|110.0|Northern Spain|          Toro|    null|     Tinta de Toro|Bodega Carmen Rod...|            2.0|\n",
      "|  2|     US|Mac Watson honors...|Special Selected ...|    96| 90.0|    California|Knights Valley|  Sonoma|   Sauvignon Blanc|            Macauley|            2.0|\n",
      "+---+-------+--------------------+--------------------+------+-----+--------------+--------------+--------+------------------+--------------------+---------------+\n",
      "only showing top 3 rows\n",
      "\n"
     ]
    }
   ],
   "source": [
    "from pyspark.ml.feature import QuantileDiscretizer\n",
    "\n",
    "#High Medium Low\n",
    "discretizer = QuantileDiscretizer(numBuckets=3, inputCol=\"points\", outputCol=\"points_category\")\n",
    "df = discretizer.fit(df).transform(df)\n",
    "df.show(3)"
   ]
  },
  {
   "cell_type": "markdown",
   "metadata": {},
   "source": [
    "## Natural Language Processing"
   ]
  },
  {
   "cell_type": "code",
   "execution_count": 12,
   "metadata": {},
   "outputs": [
    {
     "name": "stdout",
     "output_type": "stream",
     "text": [
      "+---+-------+--------------------+------+-----+--------------+-----------------+-----------------+------------------+--------------------+---------------+--------------------+\n",
      "|_c0|country|         designation|points|price|      province|         region_1|         region_2|           variety|              winery|points_category|               words|\n",
      "+---+-------+--------------------+------+-----+--------------+-----------------+-----------------+------------------+--------------------+---------------+--------------------+\n",
      "|  0|     US|   Martha's Vineyard|    96|235.0|    California|      Napa Valley|             Napa|Cabernet Sauvignon|               Heitz|            2.0|[this, tremendous...|\n",
      "|  1|  Spain|Carodorum Selecci...|    96|110.0|Northern Spain|             Toro|             null|     Tinta de Toro|Bodega Carmen Rod...|            2.0|[ripe, aromas, of...|\n",
      "|  2|     US|Special Selected ...|    96| 90.0|    California|   Knights Valley|           Sonoma|   Sauvignon Blanc|            Macauley|            2.0|[mac, watson, hon...|\n",
      "|  3|     US|             Reserve|    96| 65.0|        Oregon|Willamette Valley|Willamette Valley|        Pinot Noir|               Ponzi|            2.0|[this, spent, 20,...|\n",
      "|  4| France|          La Brûlade|    95| 66.0|      Provence|           Bandol|             null|Provence red blend|Domaine de la Bégude|            2.0|[this, is, the, t...|\n",
      "+---+-------+--------------------+------+-----+--------------+-----------------+-----------------+------------------+--------------------+---------------+--------------------+\n",
      "only showing top 5 rows\n",
      "\n"
     ]
    }
   ],
   "source": [
    "from pyspark.ml.feature import HashingTF, IDF, Tokenizer\n",
    "\n",
    "#tokenize words\n",
    "tokenizer = Tokenizer(inputCol=\"description\", outputCol=\"words\")\n",
    "df = tokenizer.transform(df)\n",
    "\n",
    "#drop the redundant source column\n",
    "df= df.drop(\"description\")\n",
    "df.show(5)"
   ]
  },
  {
   "cell_type": "code",
   "execution_count": 13,
   "metadata": {},
   "outputs": [
    {
     "name": "stdout",
     "output_type": "stream",
     "text": [
      "+---+-------+--------------------+------+-----+--------------+-----------------+-----------------+------------------+--------------------+---------------+--------------------+\n",
      "|_c0|country|         designation|points|price|      province|         region_1|         region_2|           variety|              winery|points_category|            filtered|\n",
      "+---+-------+--------------------+------+-----+--------------+-----------------+-----------------+------------------+--------------------+---------------+--------------------+\n",
      "|  0|     US|   Martha's Vineyard|    96|235.0|    California|      Napa Valley|             Napa|Cabernet Sauvignon|               Heitz|            2.0|[tremendous, 100%...|\n",
      "|  1|  Spain|Carodorum Selecci...|    96|110.0|Northern Spain|             Toro|             null|     Tinta de Toro|Bodega Carmen Rod...|            2.0|[ripe, aromas, fi...|\n",
      "|  2|     US|Special Selected ...|    96| 90.0|    California|   Knights Valley|           Sonoma|   Sauvignon Blanc|            Macauley|            2.0|[mac, watson, hon...|\n",
      "|  3|     US|             Reserve|    96| 65.0|        Oregon|Willamette Valley|Willamette Valley|        Pinot Noir|               Ponzi|            2.0|[spent, 20, month...|\n",
      "|  4| France|          La Brûlade|    95| 66.0|      Provence|           Bandol|             null|Provence red blend|Domaine de la Bégude|            2.0|[top, wine, la, b...|\n",
      "+---+-------+--------------------+------+-----+--------------+-----------------+-----------------+------------------+--------------------+---------------+--------------------+\n",
      "only showing top 5 rows\n",
      "\n"
     ]
    }
   ],
   "source": [
    "from pyspark.ml.feature import StopWordsRemover\n",
    "\n",
    "#remove stop words\n",
    "remover = StopWordsRemover(inputCol=\"words\", outputCol=\"filtered\")\n",
    "df = remover.transform(df)\n",
    "\n",
    "#drop the redundant source column\n",
    "df= df.drop(\"words\")\n",
    "df.show(5)"
   ]
  },
  {
   "cell_type": "code",
   "execution_count": 14,
   "metadata": {},
   "outputs": [
    {
     "name": "stdout",
     "output_type": "stream",
     "text": [
      "+---------------+--------------------+\n",
      "|points_category|            features|\n",
      "+---------------+--------------------+\n",
      "|            2.0|(20,[0,1,3,4,5,7,...|\n",
      "|            2.0|(20,[0,1,2,4,5,6,...|\n",
      "|            2.0|(20,[2,3,4,6,7,8,...|\n",
      "|            2.0|(20,[0,1,2,3,4,5,...|\n",
      "|            2.0|(20,[0,1,2,4,5,6,...|\n",
      "|            2.0|(20,[0,1,2,4,5,6,...|\n",
      "|            2.0|(20,[1,2,4,5,6,7,...|\n",
      "|            2.0|(20,[0,1,2,4,5,6,...|\n",
      "|            2.0|(20,[0,1,2,3,4,5,...|\n",
      "|            2.0|(20,[0,2,3,6,7,8,...|\n",
      "+---------------+--------------------+\n",
      "only showing top 10 rows\n",
      "\n"
     ]
    }
   ],
   "source": [
    "#Maps a sequence of terms to their term frequencies using the hashing trick. \n",
    "#alternatively, CountVectorizer can also be used to get term frequency vectors\n",
    "hashingTF = HashingTF(inputCol=\"filtered\", outputCol=\"rawFeatures\", numFeatures=20)\n",
    "featurizedData = hashingTF.transform(df)\n",
    "\n",
    "idf = IDF(inputCol=\"rawFeatures\", outputCol=\"features\")\n",
    "idfModel = idf.fit(featurizedData)\n",
    "nlpdf = idfModel.transform(featurizedData)\n",
    "nlpdf.select(\"points_category\", \"features\").show(10)"
   ]
  },
  {
   "cell_type": "code",
   "execution_count": 15,
   "metadata": {},
   "outputs": [
    {
     "name": "stdout",
     "output_type": "stream",
     "text": [
      "+---+-------+--------------------+------+-----+--------------+-----------------+-----------------+------------------+--------------------+---------------+--------------------+--------------------+--------------------+\n",
      "|_c0|country|         designation|points|price|      province|         region_1|         region_2|           variety|              winery|points_category|            filtered|         rawFeatures|            features|\n",
      "+---+-------+--------------------+------+-----+--------------+-----------------+-----------------+------------------+--------------------+---------------+--------------------+--------------------+--------------------+\n",
      "|  0|     US|   Martha's Vineyard|    96|235.0|    California|      Napa Valley|             Napa|Cabernet Sauvignon|               Heitz|            2.0|[tremendous, 100%...|(20,[0,1,3,4,5,7,...|(20,[0,1,3,4,5,7,...|\n",
      "|  1|  Spain|Carodorum Selecci...|    96|110.0|Northern Spain|             Toro|             null|     Tinta de Toro|Bodega Carmen Rod...|            2.0|[ripe, aromas, fi...|(20,[0,1,2,4,5,6,...|(20,[0,1,2,4,5,6,...|\n",
      "|  2|     US|Special Selected ...|    96| 90.0|    California|   Knights Valley|           Sonoma|   Sauvignon Blanc|            Macauley|            2.0|[mac, watson, hon...|(20,[2,3,4,6,7,8,...|(20,[2,3,4,6,7,8,...|\n",
      "|  3|     US|             Reserve|    96| 65.0|        Oregon|Willamette Valley|Willamette Valley|        Pinot Noir|               Ponzi|            2.0|[spent, 20, month...|(20,[0,1,2,3,4,5,...|(20,[0,1,2,3,4,5,...|\n",
      "|  4| France|          La Brûlade|    95| 66.0|      Provence|           Bandol|             null|Provence red blend|Domaine de la Bégude|            2.0|[top, wine, la, b...|(20,[0,1,2,4,5,6,...|(20,[0,1,2,4,5,6,...|\n",
      "+---+-------+--------------------+------+-----+--------------+-----------------+-----------------+------------------+--------------------+---------------+--------------------+--------------------+--------------------+\n",
      "only showing top 5 rows\n",
      "\n"
     ]
    }
   ],
   "source": [
    "nlpdf.show(5)"
   ]
  },
  {
   "cell_type": "code",
   "execution_count": 16,
   "metadata": {},
   "outputs": [
    {
     "name": "stdout",
     "output_type": "stream",
     "text": [
      "+---+-------+-----------------+------+-----+----------+-----------+--------+------------------+------+---------------+--------------------+--------------------+--------------------+\n",
      "|_c0|country|      designation|points|price|  province|   region_1|region_2|           variety|winery|points_category|            filtered|         rawFeatures|            features|\n",
      "+---+-------+-----------------+------+-----+----------+-----------+--------+------------------+------+---------------+--------------------+--------------------+--------------------+\n",
      "|  0|     US|Martha's Vineyard|    96|235.0|California|Napa Valley|    Napa|Cabernet Sauvignon| Heitz|            2.0|[tremendous, 100%...|(20,[0,1,3,4,5,7,...|(20,[0,1,3,4,5,7,...|\n",
      "+---+-------+-----------------+------+-----+----------+-----------+--------+------------------+------+---------------+--------------------+--------------------+--------------------+\n",
      "only showing top 1 row\n",
      "\n"
     ]
    }
   ],
   "source": [
    "#split data into train and test\n",
    "splits = nlpdf.randomSplit([0.8, 0.2])\n",
    "train_df = splits[0]\n",
    "test_df = splits[1]\n",
    "\n",
    "train_df.show(1)"
   ]
  },
  {
   "cell_type": "markdown",
   "metadata": {},
   "source": [
    "### Logistic Regression Model"
   ]
  },
  {
   "cell_type": "code",
   "execution_count": 17,
   "metadata": {},
   "outputs": [],
   "source": [
    "from pyspark.ml.classification import LogisticRegression\n",
    "\n",
    "# Set parameters for Logistic Regression\n",
    "lgr = LogisticRegression(maxIter=10, featuresCol = 'features', labelCol='points_category')\n",
    "\n",
    "# Fit the model to the data.\n",
    "lgrm = lgr.fit(train_df)\n",
    "\n",
    "# Given a dataset, predict each point's label, and show the results.\n",
    "predictions = lgrm.transform(test_df)"
   ]
  },
  {
   "cell_type": "code",
   "execution_count": 18,
   "metadata": {},
   "outputs": [
    {
     "name": "stdout",
     "output_type": "stream",
     "text": [
      "+---+-------+--------------------+------+-----+----------+--------------------+--------+------------------+--------------------+---------------+--------------------+--------------------+--------------------+--------------------+--------------------+----------+\n",
      "|_c0|country|         designation|points|price|  province|            region_1|region_2|           variety|              winery|points_category|            filtered|         rawFeatures|            features|       rawPrediction|         probability|prediction|\n",
      "+---+-------+--------------------+------+-----+----------+--------------------+--------+------------------+--------------------+---------------+--------------------+--------------------+--------------------+--------------------+--------------------+----------+\n",
      "|  4| France|          La Brûlade|    95| 66.0|  Provence|              Bandol|    null|Provence red blend|Domaine de la Bégude|            2.0|[top, wine, la, b...|(20,[0,1,2,4,5,6,...|(20,[0,1,2,4,5,6,...|[-1.5510370321575...|[0.04032131714425...|       2.0|\n",
      "|  9|     US|Gap's Crown Vineyard|    95| 60.0|California|        Sonoma Coast|  Sonoma|        Pinot Noir|           Blue Farm|            2.0|[producer, source...|(20,[0,2,3,6,7,8,...|(20,[0,2,3,6,7,8,...|[-1.1599802348129...|[0.07969956088308...|       2.0|\n",
      "| 16|     US|     Rainin Vineyard|    95|325.0|California|Diamond Mountain ...|    Napa|Cabernet Sauvignon|                Hall|            2.0|[blockbuster,, po...|(20,[0,1,3,4,6,7,...|(20,[0,1,3,4,6,7,...|[-0.4111557114388...|[0.21248084389273...|       2.0|\n",
      "+---+-------+--------------------+------+-----+----------+--------------------+--------+------------------+--------------------+---------------+--------------------+--------------------+--------------------+--------------------+--------------------+----------+\n",
      "only showing top 3 rows\n",
      "\n"
     ]
    }
   ],
   "source": [
    "predictions.show(3)"
   ]
  },
  {
   "cell_type": "code",
   "execution_count": 19,
   "metadata": {},
   "outputs": [
    {
     "name": "stdout",
     "output_type": "stream",
     "text": [
      "0.5121946871100018\n",
      "0.509725237114735\n"
     ]
    }
   ],
   "source": [
    "from pyspark.ml.evaluation import MulticlassClassificationEvaluator\n",
    "\n",
    "#print evaluation metrics\n",
    "evaluator = MulticlassClassificationEvaluator(labelCol=\"points_category\", predictionCol=\"prediction\")\n",
    "\n",
    "print(evaluator.evaluate(predictions, {evaluator.metricName: \"accuracy\"}))\n",
    "print(evaluator.evaluate(predictions, {evaluator.metricName: \"f1\"}))"
   ]
  },
  {
   "cell_type": "markdown",
   "metadata": {},
   "source": [
    "### Word2Vec"
   ]
  },
  {
   "cell_type": "code",
   "execution_count": 20,
   "metadata": {},
   "outputs": [],
   "source": [
    "# Learn a mapping from words to Vectors\n",
    "from pyspark.ml.feature import Word2Vec\n",
    "word2Vec = Word2Vec(vectorSize=5, minCount=0, inputCol=\"filtered\", outputCol=\"wordVectors\")\n",
    "w2VM = word2Vec.fit(df)\n",
    "nlpdf = w2VM.transform(df)"
   ]
  },
  {
   "cell_type": "code",
   "execution_count": 21,
   "metadata": {},
   "outputs": [
    {
     "name": "stdout",
     "output_type": "stream",
     "text": [
      "+---------------+-------------------------------------------------------------------------------------------------------+\n",
      "|points_category|wordVectors                                                                                            |\n",
      "+---------------+-------------------------------------------------------------------------------------------------------+\n",
      "|2.0            |[0.002250502888475441,-0.18227338501148752,-0.14161098287958238,0.13593680339141023,0.2529686127220177]|\n",
      "|2.0            |[-0.03944722082345716,-0.4090915118013659,0.22312594962216192,0.008944106798979544,0.28818741669097253]|\n",
      "+---------------+-------------------------------------------------------------------------------------------------------+\n",
      "only showing top 2 rows\n",
      "\n"
     ]
    }
   ],
   "source": [
    "nlpdf.select(\"points_category\", \"wordVectors\").show(2, truncate=False)"
   ]
  },
  {
   "cell_type": "code",
   "execution_count": 22,
   "metadata": {},
   "outputs": [
    {
     "name": "stdout",
     "output_type": "stream",
     "text": [
      "+---+-------+-----------------+------+-----+----------+-----------+--------+------------------+------+---------------+--------------------+--------------------+\n",
      "|_c0|country|      designation|points|price|  province|   region_1|region_2|           variety|winery|points_category|            filtered|         wordVectors|\n",
      "+---+-------+-----------------+------+-----+----------+-----------+--------+------------------+------+---------------+--------------------+--------------------+\n",
      "|  0|     US|Martha's Vineyard|    96|235.0|California|Napa Valley|    Napa|Cabernet Sauvignon| Heitz|            2.0|[tremendous, 100%...|[0.00225050288847...|\n",
      "+---+-------+-----------------+------+-----+----------+-----------+--------+------------------+------+---------------+--------------------+--------------------+\n",
      "only showing top 1 row\n",
      "\n"
     ]
    }
   ],
   "source": [
    "#split data into train and test\n",
    "splits = nlpdf.randomSplit([0.8, 0.2])\n",
    "train_df = splits[0]\n",
    "test_df = splits[1]\n",
    "\n",
    "train_df.show(1)"
   ]
  },
  {
   "cell_type": "code",
   "execution_count": 23,
   "metadata": {},
   "outputs": [],
   "source": [
    "# Set parameters for Logistic Regression\n",
    "lgr = LogisticRegression(maxIter=10, featuresCol = 'wordVectors', labelCol='points_category')\n",
    "\n",
    "# Fit the model to the data.\n",
    "lgrm = lgr.fit(train_df)\n",
    "\n",
    "# Given a dataset, predict each point's label, and show the results.\n",
    "predictions = lgrm.transform(test_df)"
   ]
  },
  {
   "cell_type": "code",
   "execution_count": 24,
   "metadata": {},
   "outputs": [
    {
     "name": "stdout",
     "output_type": "stream",
     "text": [
      "0.46087065031374785\n",
      "0.45402426901079673\n"
     ]
    }
   ],
   "source": [
    "#print evaluation metrics\n",
    "evaluator = MulticlassClassificationEvaluator(labelCol=\"points_category\", predictionCol=\"prediction\")\n",
    "\n",
    "print(evaluator.evaluate(predictions, {evaluator.metricName: \"accuracy\"}))\n",
    "print(evaluator.evaluate(predictions, {evaluator.metricName: \"f1\"}))"
   ]
  },
  {
   "cell_type": "markdown",
   "metadata": {},
   "source": [
    "<b>Exercise</b>: <font color='red'>Fine tune the Word2vec method to improve model accuracy </font>"
   ]
  }
 ],
 "metadata": {
  "kernelspec": {
   "display_name": "Python 3",
   "language": "python",
   "name": "python3"
  },
  "language_info": {
   "codemirror_mode": {
    "name": "ipython",
    "version": 3
   },
   "file_extension": ".py",
   "mimetype": "text/x-python",
   "name": "python",
   "nbconvert_exporter": "python",
   "pygments_lexer": "ipython3",
   "version": "3.6.7"
  },
  "latex_envs": {
   "LaTeX_envs_menu_present": true,
   "autoclose": false,
   "autocomplete": true,
   "bibliofile": "biblio.bib",
   "cite_by": "apalike",
   "current_citInitial": 1,
   "eqLabelWithNumbers": true,
   "eqNumInitial": 1,
   "hotkeys": {
    "equation": "Ctrl-E",
    "itemize": "Ctrl-I"
   },
   "labels_anchors": false,
   "latex_user_defs": false,
   "report_style_numbering": false,
   "user_envs_cfg": false
  },
  "varInspector": {
   "cols": {
    "lenName": 16,
    "lenType": 16,
    "lenVar": 40
   },
   "kernels_config": {
    "python": {
     "delete_cmd_postfix": "",
     "delete_cmd_prefix": "del ",
     "library": "var_list.py",
     "varRefreshCmd": "print(var_dic_list())"
    },
    "r": {
     "delete_cmd_postfix": ") ",
     "delete_cmd_prefix": "rm(",
     "library": "var_list.r",
     "varRefreshCmd": "cat(var_dic_list()) "
    }
   },
   "types_to_exclude": [
    "module",
    "function",
    "builtin_function_or_method",
    "instance",
    "_Feature"
   ],
   "window_display": false
  }
 },
 "nbformat": 4,
 "nbformat_minor": 2
}
